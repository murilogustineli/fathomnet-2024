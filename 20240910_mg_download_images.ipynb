{
  "nbformat": 4,
  "nbformat_minor": 0,
  "metadata": {
    "colab": {
      "provenance": [],
      "authorship_tag": "ABX9TyPwM7ERnVo+ZqrhML6LIP7o",
      "include_colab_link": true
    },
    "kernelspec": {
      "name": "python3",
      "display_name": "Python 3"
    },
    "language_info": {
      "name": "python"
    }
  },
  "cells": [
    {
      "cell_type": "markdown",
      "metadata": {
        "id": "view-in-github",
        "colab_type": "text"
      },
      "source": [
        "<a href=\"https://colab.research.google.com/github/murilogustineli/fathomnet-2024/blob/main/20240910_mg_download_images.ipynb\" target=\"_parent\"><img src=\"https://colab.research.google.com/assets/colab-badge.svg\" alt=\"Open In Colab\"/></a>"
      ]
    },
    {
      "cell_type": "markdown",
      "source": [
        "# Download Images under 20minutes instead of 4hours\n",
        "\n",
        "- [Kaggle notebook to download images](https://www.kaggle.com/code/picekl/download-images-under-20m-instead-of-4h)\n"
      ],
      "metadata": {
        "id": "UxBrttEumirK"
      }
    },
    {
      "cell_type": "code",
      "execution_count": 2,
      "metadata": {
        "colab": {
          "base_uri": "https://localhost:8080/"
        },
        "id": "kwoh3ifLmN1n",
        "outputId": "120403ab-49b4-4a59-dac8-9ade151d995f"
      },
      "outputs": [
        {
          "output_type": "stream",
          "name": "stdout",
          "text": [
            "Mounted at /content/drive\n"
          ]
        }
      ],
      "source": [
        "# Mount into drive\n",
        "from google.colab import drive\n",
        "drive.mount(\"/content/drive\")\n",
        "\n",
        "%load_ext autoreload\n",
        "%autoreload 2"
      ]
    },
    {
      "cell_type": "code",
      "source": [
        "# Change directory to the project folder\n",
        "%cd '/content/drive/MyDrive/Kaggle/FathomNet2024'\n",
        "# Verify the contents of the current folder\n",
        "!ls"
      ],
      "metadata": {
        "colab": {
          "base_uri": "https://localhost:8080/"
        },
        "id": "r1Qap72Nmv4U",
        "outputId": "fd0c091a-d1bc-4083-ba64-701c57989984"
      },
      "execution_count": 3,
      "outputs": [
        {
          "output_type": "stream",
          "name": "stdout",
          "text": [
            "/content/drive/MyDrive/Kaggle/FathomNet2024\n",
            "eval.json  notebooks  test-data  training-data\ttrain.json\n"
          ]
        }
      ]
    },
    {
      "cell_type": "code",
      "source": [
        "\"\"\"\n",
        "download_images\n",
        "\n",
        "Script to retrieve images for the 2024 FathomNet out-of-sample challenge as part of FGVC 10.\n",
        "\n",
        "Assumes COCO formatted annotation file has been downloaded from http://www.kaggle.com/competitions/fathomnet-out-of-sample-detection\n",
        "\"\"\"\n",
        "# Authors:\n",
        "# Eric Orenstein (eorenstein@mbari.org)\n",
        "# Lukas Picek (lukaspicek@gmail.com)\n",
        "\n",
        "\n",
        "import os\n",
        "import json\n",
        "import logging\n",
        "import argparse\n",
        "import requests\n",
        "import progressbar\n",
        "from PIL import Image\n",
        "from tqdm import tqdm\n",
        "from shutil import copyfileobj\n",
        "from multiprocessing import Pool, cpu_count\n",
        "\n",
        "\n",
        "def download_img(args, resize=True):\n",
        "    \"\"\"\n",
        "    Download a single image.\n",
        "\n",
        "    :param args: Tuple of (name, url, outdir)\n",
        "    \"\"\"\n",
        "    name, url, outdir = args\n",
        "    file_name = os.path.join(outdir, name)\n",
        "\n",
        "    # Only download if the image does not exist in the outdir\n",
        "    if not os.path.exists(file_name):\n",
        "        resp = requests.get(url, stream=True)\n",
        "        resp.raw.decode_content = True\n",
        "        with open(file_name, 'wb') as f:\n",
        "            copyfileobj(resp.raw, f)\n",
        "\n",
        "        # Resize the downloaded image while keeping the aspect ratio\n",
        "        if resize:\n",
        "            try:\n",
        "                img = Image.open(file_name)\n",
        "                img.thumbnail((1280,720), Image.LANCZOS)\n",
        "                img.save(file_name)\n",
        "            except:\n",
        "                print(f\"Problem with resizing image: {file_name}\")\n",
        "\n",
        "        return 1  # Indicate that image was downloaded\n",
        "    else:\n",
        "        return 0  # Indicate that image already exists\n",
        "\n",
        "\n",
        "def image_data_setup(imgs, outdir=None):\n",
        "    \"\"\"\n",
        "    Download images to an output dir\n",
        "\n",
        "    :param imgs: list of tuples (name, url)\n",
        "    :param outdir: desired directory [default to working directory]\n",
        "    \"\"\"\n",
        "\n",
        "    # Set the out directory to default if not specified\n",
        "    if not outdir:\n",
        "        outdir = os.path.join(os.getcwd(), 'images')\n",
        "\n",
        "    # Make the directory if it does not exist\n",
        "    if not os.path.exists(outdir):\n",
        "        os.mkdir(outdir)\n",
        "        logging.info(f\"Created directory {outdir}\")\n",
        "\n",
        "    num_processes = cpu_count() * 2  # Use twice the number of CPU cores for multiprocessing\n",
        "    pool = Pool(processes=num_processes)\n",
        "\n",
        "    # Prepare arguments for multiprocessing\n",
        "    args_list = [(name, url, outdir) for name, url in imgs]\n",
        "\n",
        "    # Use tqdm for progress bar\n",
        "    with tqdm(total=len(imgs)) as pbar:\n",
        "        for _ in pool.imap_unordered(download_img, args_list):\n",
        "            pbar.update(1)\n",
        "\n",
        "    pool.close()\n",
        "    pool.join()\n",
        "\n",
        "\n",
        "def download_image_data(dataset_path: str, outpath: str) -> None:\n",
        "    logging.info(f'opening {dataset_path}')\n",
        "    with open(dataset_path, 'r') as ff:\n",
        "        dataset = json.load(ff)\n",
        "    # get images\n",
        "    ims = dataset['images']\n",
        "    # logging message\n",
        "    logging.info(f'retrieving {len(ims)} images')\n",
        "    # create image list\n",
        "    ims = [(im['file_name'], im['coco_url']) for im in ims]\n",
        "\n",
        "    # Download images\n",
        "    image_data_setup(ims, outdir=outpath)\n"
      ],
      "metadata": {
        "id": "XQ1q3-x63q7-"
      },
      "execution_count": 4,
      "outputs": []
    },
    {
      "cell_type": "code",
      "source": [
        "train_dataset = \"/content/drive/MyDrive/Kaggle/FathomNet2024/train.json\"\n",
        "train_outpath = \"/content/drive/MyDrive/Kaggle/FathomNet2024/training-data\"\n",
        "\n",
        "download_image_data(train_dataset, train_outpath)\n",
        "# f8cf3738-69db-4706-9688-100eb76d6ad5.png"
      ],
      "metadata": {
        "id": "r2KbVWQL3_Al",
        "colab": {
          "base_uri": "https://localhost:8080/"
        },
        "outputId": "b3724ab6-26a5-4ee0-afca-0d7e0dbc7e21"
      },
      "execution_count": 5,
      "outputs": [
        {
          "output_type": "stream",
          "name": "stderr",
          "text": [
            "100%|██████████| 8058/8058 [00:29<00:00, 274.90it/s] \n"
          ]
        }
      ]
    },
    {
      "cell_type": "code",
      "source": [
        "eval_dataset = \"/content/drive/MyDrive/Kaggle/FathomNet2024/eval.json\"\n",
        "eval_outpath = \"/content/drive/MyDrive/Kaggle/FathomNet2024/test-data\"\n",
        "\n",
        "download_image_data(eval_dataset, eval_outpath)"
      ],
      "metadata": {
        "id": "ndmPrQd_3_wi",
        "colab": {
          "base_uri": "https://localhost:8080/"
        },
        "outputId": "f02d92b1-b8ac-436c-ea6f-bf2720c410f6"
      },
      "execution_count": 6,
      "outputs": [
        {
          "output_type": "stream",
          "name": "stderr",
          "text": [
            "100%|██████████| 2686/2686 [00:00<00:00, 3294.48it/s]\n"
          ]
        }
      ]
    },
    {
      "cell_type": "code",
      "source": [
        "# check number of downloaded training and eval images\n",
        "# Should be 8058 and\n",
        "\n",
        "import json\n",
        "\n",
        "def check_num_images(json_file:str, image_folder_name:str):\n",
        "    with open(json_file) as f:\n",
        "        data = json.load(f)\n",
        "\n",
        "    # get total number of images in json file\n",
        "    total_imgs = 0\n",
        "    for img in data[\"images\"]:\n",
        "        total_imgs += 1\n",
        "\n",
        "    # get number of images in the image data folder\n",
        "    folder_name = \"train\" if \"train\" in json_file else \"test\"\n",
        "    num_train_imgs = len([name for name in os.listdir(f\"./{image_folder_name}\")])\n",
        "    print(f\"json images: {total_imgs}\")\n",
        "    print(f\"{folder_name} images: {num_train_imgs}\\n\")"
      ],
      "metadata": {
        "id": "-sOSsgxmU_6s"
      },
      "execution_count": 7,
      "outputs": []
    },
    {
      "cell_type": "code",
      "source": [
        "# Check if images were downloaded properly\n",
        "check_num_images(\"train.json\", \"training-data\")\n",
        "check_num_images(\"eval.json\", \"test-data\")"
      ],
      "metadata": {
        "colab": {
          "base_uri": "https://localhost:8080/"
        },
        "id": "XaqjGDfAVIwD",
        "outputId": "e8b854cb-d437-4f87-ca19-52a08707da9d"
      },
      "execution_count": 8,
      "outputs": [
        {
          "output_type": "stream",
          "name": "stdout",
          "text": [
            "json images: 8058\n",
            "train images: 8058\n",
            "\n",
            "json images: 2686\n",
            "test images: 2686\n",
            "\n"
          ]
        }
      ]
    },
    {
      "cell_type": "code",
      "source": [
        "# size of datasets\n",
        "!du -sh ./training-data\n",
        "!du -sh ./test-data"
      ],
      "metadata": {
        "colab": {
          "base_uri": "https://localhost:8080/"
        },
        "id": "Fajf0PLpX1d0",
        "outputId": "3b7d07de-17cf-4dc9-bb2d-39fb9395db64"
      },
      "execution_count": 9,
      "outputs": [
        {
          "output_type": "stream",
          "name": "stdout",
          "text": [
            "7.2G\t./training-data\n",
            "2.3G\t./test-data\n"
          ]
        }
      ]
    },
    {
      "cell_type": "code",
      "source": [
        "# image labels\n",
        "with open(\"train.json\") as f:\n",
        "    data = json.load(f)\n",
        "\n",
        "print(f\"COCO obj detection format: {list(data.keys())}\\n\")\n",
        "\n",
        "# analysing the json\n",
        "print(f\"Number of images: {len(data['images'])}\")\n",
        "print(f\"Number of annotations: {len(data['annotations'])}\")\n",
        "print(f\"Number of categories: {len(data['categories'])}\\n\")\n",
        "\n",
        "# annotation format\n",
        "data[\"images\"][12], data[\"annotations\"][10_000], data[\"categories\"][17]"
      ],
      "metadata": {
        "id": "BiyXSLbpYpTg",
        "colab": {
          "base_uri": "https://localhost:8080/"
        },
        "outputId": "a61defbe-3cf9-490b-c1fe-d2835108ec2f"
      },
      "execution_count": 10,
      "outputs": [
        {
          "output_type": "stream",
          "name": "stdout",
          "text": [
            "COCO obj detection format: ['info', 'images', 'licenses', 'annotations', 'categories']\n",
            "\n",
            "Number of images: 8058\n",
            "Number of annotations: 35954\n",
            "Number of categories: 18\n",
            "\n"
          ]
        },
        {
          "output_type": "execute_result",
          "data": {
            "text/plain": [
              "({'id': 20,\n",
              "  'width': 720,\n",
              "  'height': 486,\n",
              "  'file_name': '86c480bc-9be5-4252-ade1-66826ef979f6.png',\n",
              "  'license': 0,\n",
              "  'flickr_url': 'https://fathomnet.org/static/m3/staging/Doc%20Ricketts/images/0565/01_07_11_07.png',\n",
              "  'coco_url': 'https://fathomnet.org/static/m3/staging/Doc%20Ricketts/images/0565/01_07_11_07.png',\n",
              "  'date_captured': '2013-12-12 00:00:00'},\n",
              " {'id': 13748,\n",
              "  'image_id': 20,\n",
              "  'category_id': 18,\n",
              "  'segmentation': [],\n",
              "  'area': 260.0,\n",
              "  'bbox': [581.0, 231.0, 13.0, 20.0],\n",
              "  'iscrowd': 0},\n",
              " {'id': 18, 'name': 'Worm', 'supercategory': ''})"
            ]
          },
          "metadata": {},
          "execution_count": 10
        }
      ]
    },
    {
      "cell_type": "code",
      "source": [],
      "metadata": {
        "id": "s3VPm4KLiN8g"
      },
      "execution_count": 10,
      "outputs": []
    }
  ]
}